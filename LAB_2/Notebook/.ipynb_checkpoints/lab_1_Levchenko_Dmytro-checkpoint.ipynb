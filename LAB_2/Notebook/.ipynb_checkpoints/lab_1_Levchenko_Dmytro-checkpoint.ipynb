{
 "cells": [
  {
   "cell_type": "markdown",
   "id": "03f1b994-4d0d-42f5-a96d-f5284038f0ad",
   "metadata": {},
   "source": [
    "Команда: conda info\n",
    "![Команда: conda info](..\\images\\1.png)"
   ]
  },
  {
   "cell_type": "markdown",
   "id": "05995dd6-6126-4794-ad32-75fa2e56b545",
   "metadata": {},
   "source": [
    "Команда: conda update --all\n",
    "![Команда: conda update --all](..\\images\\2.png)"
   ]
  },
  {
   "cell_type": "markdown",
   "id": "a9a807ca-7954-4561-b70a-2b9991b954e7",
   "metadata": {},
   "source": [
    "Команда: conda list\n",
    "![Команда: conda list](..\\images\\3.png)"
   ]
  },
  {
   "cell_type": "markdown",
   "id": "0c9828dd-bc1b-44ac-aa2e-fc986f69a833",
   "metadata": {},
   "source": [
    "Команда: conda conda env list\n",
    "![Команда: conda conda env list](..\\images\\4.png)"
   ]
  },
  {
   "cell_type": "markdown",
   "id": "64f9171f-02bf-43a8-aaa3-3177740e4c30",
   "metadata": {},
   "source": [
    "Команда: conda create --name diranaenv\n",
    "![Команда: conda create --name diranaenv](..\\images\\5.png)"
   ]
  },
  {
   "cell_type": "markdown",
   "id": "0c506f16-84ff-4656-ac16-9e4be8f6ed95",
   "metadata": {},
   "source": [
    "Команда: conda activate diranaenv\n",
    "![Команда: conda activate diranaenv](..\\images\\6.png)"
   ]
  },
  {
   "cell_type": "markdown",
   "id": "3a324bff-c6a4-4c06-babe-c0ee4fbfafb2",
   "metadata": {},
   "source": [
    "Команда: conda search python\n",
    "![Команда: conda search python](..\\images\\7.png)"
   ]
  },
  {
   "cell_type": "markdown",
   "id": "96d0b0ca-7ac3-42b9-b603-fe5cadd6389d",
   "metadata": {},
   "source": [
    "Команда: conda install python\n",
    "![Команда: conda install python](..\\images\\8.png)"
   ]
  },
  {
   "cell_type": "markdown",
   "id": "046333cb-d3e3-4a4e-8d7c-6efacaa50015",
   "metadata": {},
   "source": [
    "Команда: conda conda list\n",
    "![Команда: conda conda list](..\\images\\9.png)"
   ]
  },
  {
   "cell_type": "markdown",
   "id": "21859c88-0a76-49d7-8cc4-ef4f4dd9629f",
   "metadata": {},
   "source": [
    "Команда: pip install ipykernel\n",
    "![Команда: pip install ipykernel](..\\images\\10.png)"
   ]
  },
  {
   "cell_type": "markdown",
   "id": "7b82ddb3-274f-4629-aa5c-710eb82a4079",
   "metadata": {},
   "source": [
    "Команда: python -m ipykernel install --user --name=diranaenv --display-name \"Python (diranaenv)\"\n",
    "![Команда: python -m ipykernel install --user --name=diranaenv --display-name \"Python (diranaenv)\"](..\\images\\11.png)"
   ]
  },
  {
   "cell_type": "markdown",
   "id": "8b1f64bb-f99a-405e-860a-4971194130dc",
   "metadata": {},
   "source": [
    "Команда: pip install notebook\n",
    "![Команда: pip install notebook](..\\images\\12.png)"
   ]
  },
  {
   "cell_type": "markdown",
   "id": "ce5f551b-2862-42aa-a052-a7e38dbfd9d8",
   "metadata": {},
   "source": [
    "Фото включеного jupyter notebook\n",
    "![Фото включеного jupyter notebook](..\\images\\13.png)"
   ]
  },
  {
   "cell_type": "markdown",
   "id": "d0313744-e69a-44e5-8a3d-9e872d85bac5",
   "metadata": {},
   "source": [
    "Команда: conda create --name Levchenko_OpenCV --clone diranaenv\n",
    "![Команда: conda create --name Levchenko_OpenCV --clone diranaenv](..\\images\\14.png)"
   ]
  }
 ],
 "metadata": {
  "kernelspec": {
   "display_name": "Levchenko_OpenCV",
   "language": "python",
   "name": "levchenko_opencv"
  },
  "language_info": {
   "codemirror_mode": {
    "name": "ipython",
    "version": 3
   },
   "file_extension": ".py",
   "mimetype": "text/x-python",
   "name": "python",
   "nbconvert_exporter": "python",
   "pygments_lexer": "ipython3",
   "version": "3.13.2"
  }
 },
 "nbformat": 4,
 "nbformat_minor": 5
}
