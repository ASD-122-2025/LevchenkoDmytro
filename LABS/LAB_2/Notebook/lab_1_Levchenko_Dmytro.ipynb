{
 "cells": [
  {
   "cell_type": "markdown",
   "id": "03f1b994-4d0d-42f5-a96d-f5284038f0ad",
   "metadata": {},
   "source": [
    "Команда: conda info\n",
    "![Команда: conda info](../images/1.PNG)"
   ]
  },
  {
   "cell_type": "markdown",
   "id": "05995dd6-6126-4794-ad32-75fa2e56b545",
   "metadata": {},
   "source": [
    "Команда: conda update --all\n",
    "![Команда: conda update --all](../images/2.PNG)"
   ]
  },
  {
   "cell_type": "markdown",
   "id": "a9a807ca-7954-4561-b70a-2b9991b954e7",
   "metadata": {},
   "source": [
    "Команда: conda list\n",
    "![Команда: conda list](../images/3.PNG)"
   ]
  },
  {
   "cell_type": "markdown",
   "id": "0c9828dd-bc1b-44ac-aa2e-fc986f69a833",
   "metadata": {},
   "source": [
    "Команда: conda conda env list\n",
    "![Команда: conda conda env list](../images/4.PNG)"
   ]
  },
  {
   "cell_type": "markdown",
   "id": "64f9171f-02bf-43a8-aaa3-3177740e4c30",
   "metadata": {},
   "source": [
    "Команда: conda create --name diranaenv\n",
    "![Команда: conda create --name diranaenv](../images/5.PNG)"
   ]
  },
  {
   "cell_type": "markdown",
   "id": "0c506f16-84ff-4656-ac16-9e4be8f6ed95",
   "metadata": {},
   "source": [
    "Команда: conda activate diranaenv\n",
    "![Команда: conda activate diranaenv](../images/6.PNG)"
   ]
  },
  {
   "cell_type": "markdown",
   "id": "3a324bff-c6a4-4c06-babe-c0ee4fbfafb2",
   "metadata": {},
   "source": [
    "Команда: conda search python\n",
    "![Команда: conda search python](../images/7.PNG)"
   ]
  },
  {
   "cell_type": "markdown",
   "id": "96d0b0ca-7ac3-42b9-b603-fe5cadd6389d",
   "metadata": {},
   "source": [
    "Команда: conda install python\n",
    "![Команда: conda install python](../images/8.PNG)"
   ]
  },
  {
   "cell_type": "markdown",
   "id": "046333cb-d3e3-4a4e-8d7c-6efacaa50015",
   "metadata": {},
   "source": [
    "Команда: conda conda list\n",
    "![Команда: conda conda list](../images/9.PNG)"
   ]
  },
  {
   "cell_type": "markdown",
   "id": "21859c88-0a76-49d7-8cc4-ef4f4dd9629f",
   "metadata": {},
   "source": [
    "Команда: pip install ipykernel\n",
    "![Команда: pip install ipykernel](../images/10.PNG)"
   ]
  },
  {
   "cell_type": "markdown",
   "id": "7b82ddb3-274f-4629-aa5c-710eb82a4079",
   "metadata": {},
   "source": [
    "Команда: python -m ipykernel install --user --name=diranaenv --display-name \"Python (diranaenv)\"\n",
    "![Команда: python -m ipykernel install --user --name=diranaenv --display-name \"Python (diranaenv)\"](../images/11.PNG)"
   ]
  },
  {
   "cell_type": "markdown",
   "id": "8b1f64bb-f99a-405e-860a-4971194130dc",
   "metadata": {},
   "source": [
    "Команда: pip install notebook\n",
    "![Команда: pip install notebook](../images/12.PNG)"
   ]
  },
  {
   "cell_type": "markdown",
   "id": "ce5f551b-2862-42aa-a052-a7e38dbfd9d8",
   "metadata": {},
   "source": [
    "Фото включеного jupyter notebook\n",
    "![Фото включеного jupyter notebook](../images/13.PNG)"
   ]
  },
  {
   "cell_type": "markdown",
   "id": "d0313744-e69a-44e5-8a3d-9e872d85bac5",
   "metadata": {},
   "source": [
    "Команда: conda create --name Levchenko_OpenCV --clone diranaenv\n",
    "![Команда: conda create --name Levchenko_OpenCV --clone diranaenv](../images/14.PNG)"
   ]
  },
  {
   "cell_type": "markdown",
   "id": "57edf3e9-c4f8-411a-88bb-c7fa666fd5e9",
   "metadata": {},
   "source": []
  },
  {
   "cell_type": "markdown",
   "id": "9ac254e5-0a17-41f5-8c25-3f7dbd8441ca",
   "metadata": {},
   "source": []
  },
  {
   "cell_type": "markdown",
   "id": "98933c4b-bfec-40e2-b107-88083d70fefd",
   "metadata": {},
   "source": []
  },
  {
   "cell_type": "markdown",
   "id": "3c9ba045-16e1-4b7c-92e5-c5d474124aaa",
   "metadata": {},
   "source": []
  },
  {
   "cell_type": "markdown",
   "id": "7471ad5c-8330-4812-88fe-1f35e1674671",
   "metadata": {},
   "source": []
  },
  {
   "cell_type": "markdown",
   "id": "45687215-73de-4e9a-88bb-a509fbcab7ca",
   "metadata": {},
   "source": []
  }
 ],
 "metadata": {
  "kernelspec": {
   "display_name": "Levchenko_OpenCV",
   "language": "python",
   "name": "levchenko_opencv"
  },
  "language_info": {
   "codemirror_mode": {
    "name": "ipython",
    "version": 3
   },
   "file_extension": ".py",
   "mimetype": "text/x-python",
   "name": "python",
   "nbconvert_exporter": "python",
   "pygments_lexer": "ipython3",
   "version": "3.13.2"
  }
 },
 "nbformat": 4,
 "nbformat_minor": 5
}
