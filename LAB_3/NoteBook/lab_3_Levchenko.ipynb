{
 "cells": [
  {
   "cell_type": "markdown",
   "id": "39dab293-8b28-427f-9373-3e70751dfe60",
   "metadata": {},
   "source": [
    "# Лабораторна робота №3  \n",
    "### Дослідження алгоритмів сортування  \n",
    "**Студент:** Левченко Д.В.  \n",
    "**Група:** КН24-2  \n",
    "**Дата:** 28.03.2025  \n",
    "\n",
    "У цій роботі досліджуються два алгоритми сортування:  \n",
    "- **Сортування вставками**  \n",
    "- **Сортування бульбашкою**  \n",
    "\n",
    "Мета роботи — порівняти їхню асимптотичну складність і виміряти час виконання на різних обсягах даних."
   ]
  },
  {
   "cell_type": "markdown",
   "id": "79c9238d-b614-484a-ae3e-1d782f9e6ff7",
   "metadata": {},
   "source": [
    "### Сортування бульбашкою\n",
    "На кожній ітерації найбільший елемент спливає в кінець масиву.\n",
    "Найгірший і середній випадок:\n",
    "$$T(n) = \\frac{n(n-1)}{2} = O(n^2)$$\n",
    "Найкращий випадок (якщо масив вже відсортований): $ O (n) $.\n",
    "\n",
    "Алгоритм бульбашкового сортування багаторазово проходить масивом, порівнюючи сусідні елементи.  \n",
    "Код:"
   ]
  },
  {
   "cell_type": "code",
   "execution_count": null,
   "id": "352b8863-6c34-4da8-98f4-ab859226ddc5",
   "metadata": {},
   "outputs": [],
   "source": [
    "import time\n",
    "import random\n",
    "\n",
    "def bubble_sort(arr):\n",
    "    n = len(arr)\n",
    "    for i in range(n - 1):\n",
    "        swapped = False\n",
    "        for j in range(n - 1 - i):\n",
    "            if arr[j] > arr[j + 1]:\n",
    "                arr[j], arr[j + 1] = arr[j + 1], arr[j]\n",
    "                swapped = True\n",
    "        if not swapped:\n",
    "            break\n",
    "    return arr\n",
    "\n",
    "# Тестирование\n",
    "arr = [random.randint(1, 100) for _ in range(10)]\n",
    "print(\"вихідний масив:\", arr)\n",
    "print(\"Отсортированный:\", bubble_sort(arr))\n"
   ]
  },
  {
   "cell_type": "markdown",
   "id": "bf96367c-16c4-43db-9e01-d02a960c8132",
   "metadata": {},
   "source": [
    "### Сортування вставками  \n",
    "Алгоритм проходить масивом і вставляє елементи в потрібне місце.  \n",
    "Найгірший випадок: масив відсортований у зворотному порядку.  \n",
    "Складність:  \n",
    "$$T(n) = \\frac{n(n-1)}{2} = O(n^2)$$  \n",
    "Найкращий випадок: масив уже відсортований.  \n",
    "Складність: $ O (n) $.\n",
    "\n",
    "Цей алгоритм вставляє кожен новий елемент у відсортовану частину масиву.  \n",
    "Код:"
   ]
  },
  {
   "cell_type": "code",
   "execution_count": null,
   "id": "e7dce8a8-7e62-4bbc-be23-c7c86cc01cba",
   "metadata": {},
   "outputs": [],
   "source": [
    "def insertion_sort(arr):\n",
    "    for i in range(1, len(arr)):\n",
    "        key = arr[i]\n",
    "        j = i - 1\n",
    "        while j >= 0 and arr[j] > key:\n",
    "            arr[j + 1] = arr[j]\n",
    "            j -= 1\n",
    "        arr[j + 1] = key\n",
    "    return arr\n",
    "\n",
    "# Тестирование\n",
    "arr = [random.randint(1, 100) for _ in range(10)]\n",
    "print(\"Вихідний масив:\", arr)\n",
    "print(\"Відсортований:\", insertion_sort(arr))"
   ]
  },
  {
   "cell_type": "markdown",
   "id": "06db01e7-cf15-4619-a40b-d1d598220983",
   "metadata": {},
   "source": [
    "## Вимірювання часу виконання  \n",
    "Для оцінки продуктивності використовуватимемо функцію `time.time()`, вимірюючи швидкість роботи алгоритмів.  \n",
    "Розміри масивів: `[5, 10, 50, 100, 500, ...]`"
   ]
  },
  {
   "cell_type": "code",
   "execution_count": null,
   "id": "19ad7166-8e77-4c51-8ed4-b9ebee9c6661",
   "metadata": {},
   "outputs": [],
   "source": [
    "def measure_time(sort_function, arr):\n",
    "    start_time = time.time()\n",
    "    sort_function(arr.copy())\n",
    "    return time.time() - start_time\n",
    "\n",
    "sizes = [5, 10, 50, 100, 500, 1000, 2000, 3000, 4000, 5000, 10000, 20000, 50000, 100000]\n",
    "bubble_times = []\n",
    "insertion_times = []\n",
    "\n",
    "for n in sizes:\n",
    "    arr = [random.randint(1, 100000) for _ in range(n)]\n",
    "    \n",
    "    bubble_times.append(measure_time(bubble_sort, arr))\n",
    "    insertion_times.append(measure_time(insertion_sort, arr))\n",
    "\n",
    "print(\"Час виконання бульбашкового сортування:\", bubble_times)\n",
    "print(\"Час виконання сортування вставками:\", insertion_times)"
   ]
  },
  {
   "cell_type": "markdown",
   "id": "29956545-ad61-4d80-8158-9f7151222d09",
   "metadata": {},
   "source": [
    "## Побудова графіків  \n",
    "Нижче наведено графіки часу виконання сортування бульбашкою та вставками."
   ]
  },
  {
   "cell_type": "code",
   "execution_count": null,
   "id": "25a9ddbf-2cde-44e2-9a37-6fac29489c41",
   "metadata": {},
   "outputs": [],
   "source": [
    "import matplotlib.pyplot as plt\n",
    "\n",
    "plt.figure(figsize=(10, 6))\n",
    "plt.plot(sizes, bubble_times, label=\"Bubble Sort\", marker='o')\n",
    "plt.plot(sizes, insertion_times, label=\"Insertion Sort\", marker='s')\n",
    "plt.xlabel(\"Розмір массива (n)\")\n",
    "plt.ylabel(\"Час виконання (сек.)\")\n",
    "plt.title(\"Порівняння часу виконання сортувань\")\n",
    "plt.legend()\n",
    "plt.grid()\n",
    "plt.show()"
   ]
  },
  {
   "cell_type": "markdown",
   "id": "a219f839-bf27-4320-81ea-b06c29cf8db4",
   "metadata": {},
   "source": [
    "# Висновки  \n",
    "1. Обидва алгоритми працюють **O(n²)** у гіршому випадку.  \n",
    "2. Сортування вставками швидше на невеликих обсягах даних.  \n",
    "3. Пухирцеве сортування повільніше і рідко використовується на практиці."
   ]
  }
 ],
 "metadata": {
  "kernelspec": {
   "display_name": "Python 3 (ipykernel)",
   "language": "python",
   "name": "python3"
  },
  "language_info": {
   "codemirror_mode": {
    "name": "ipython",
    "version": 3
   },
   "file_extension": ".py",
   "mimetype": "text/x-python",
   "name": "python",
   "nbconvert_exporter": "python",
   "pygments_lexer": "ipython3",
   "version": "3.13.2"
  }
 },
 "nbformat": 4,
 "nbformat_minor": 5
}
